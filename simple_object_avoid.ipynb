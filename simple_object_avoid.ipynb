{
 "cells": [
  {
   "cell_type": "code",
   "execution_count": 8,
   "id": "4f751710-c8a6-4573-a3e4-e30cc2ef793f",
   "metadata": {},
   "outputs": [
    {
     "name": "stdout",
     "output_type": "stream",
     "text": [
      "[2, 2, 2, 2]\n",
      "[2, 2, 2, 2]\n",
      "[2, 1, 1, 1]\n",
      "[1, 1, 1, 1]\n",
      "[2, 2, 2, 2]\n",
      "[2, 2, 2, 2]\n",
      "[2, 2, 2, 2]\n",
      "[2, 2, 2, 2]\n",
      "[1, 1, 1, 1]\n",
      "[2, 2, 1, 1]\n",
      "[2, 2, 2, 2]\n",
      "[2, 2, 2, 2]\n",
      "[2, 2, 2, 2]\n",
      "[2, 2, 2, 2]\n",
      "[2, 2, 1, 1]\n",
      "[2, 2, 2, 2]\n",
      "[2, 2, 2, 2]\n",
      "[1, 1, 1, 1]\n",
      "[1, 1, 1, 1]\n",
      "[2, 2, 2, 2]\n",
      "[2, 2, 2, 2]\n",
      "[2, 2, 2, 2]\n",
      "[2, 2, 2, 2]\n",
      "[2, 2, 2, 2]\n",
      "[2, 1, 1, 1]\n",
      "[2, 2, 2, 2]\n",
      "[2, 1, 1, 1]\n",
      "[2, 2, 2, 2]\n",
      "[2, 2, 2, 2]\n",
      "[2, 2, 2, 2]\n",
      "[2, 2, 2, 2]\n",
      "[2, 2, 2, 2]\n",
      "[1, 1, 1, 1]\n",
      "[2, 2, 2, 1]\n"
     ]
    }
   ],
   "source": [
    "import picar_4wd as fc\n",
    "import time\n",
    "import random\n",
    "\n",
    "speed = 20\n",
    "turn_speed = 30\n",
    "\n",
    "def main():\n",
    "    start_time = time.time()  # Record the start time\n",
    "    run_duration = 30  # Duration to run the main loop, in seconds\n",
    "\n",
    "    while True:\n",
    "        current_time = time.time()  # Get the current time\n",
    "        if current_time - start_time > run_duration:\n",
    "            break  # Exit the loop after run_duration seconds\n",
    "\n",
    "        scan_list = fc.scan_step(25)\n",
    "        if not scan_list:\n",
    "            continue\n",
    "\n",
    "        tmp = scan_list[3:7]\n",
    "        print(tmp)\n",
    "        if tmp != [2,2,2,2]:\n",
    "            fc.forward(speed)\n",
    "            time.sleep(0.13)\n",
    "            \n",
    "            # Randomly decide to turn left or right\n",
    "            random_turn = random.choice([fc.turn_left, fc.turn_right])\n",
    "            random_turn(turn_speed)# Call the randomly selected function\n",
    "            time.sleep(0.85)\n",
    "        else:\n",
    "            fc.backward(speed)\n",
    "\n",
    "if __name__ == \"__main__\":\n",
    "    try:\n",
    "        main()\n",
    "    finally:\n",
    "        fc.stop()\n"
   ]
  },
  {
   "cell_type": "code",
   "execution_count": null,
   "id": "77ae551b-d352-4f43-9d67-51cfb2af5906",
   "metadata": {},
   "outputs": [],
   "source": []
  }
 ],
 "metadata": {
  "kernelspec": {
   "display_name": "Python 3 (ipykernel)",
   "language": "python",
   "name": "python3"
  },
  "language_info": {
   "codemirror_mode": {
    "name": "ipython",
    "version": 3
   },
   "file_extension": ".py",
   "mimetype": "text/x-python",
   "name": "python",
   "nbconvert_exporter": "python",
   "pygments_lexer": "ipython3",
   "version": "3.9.2"
  }
 },
 "nbformat": 4,
 "nbformat_minor": 5
}
