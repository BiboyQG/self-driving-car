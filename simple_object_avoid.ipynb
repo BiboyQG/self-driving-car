{
 "cells": [
  {
   "cell_type": "code",
   "execution_count": 2,
   "id": "4f751710-c8a6-4573-a3e4-e30cc2ef793f",
   "metadata": {},
   "outputs": [
    {
     "name": "stdout",
     "output_type": "stream",
     "text": [
      "[2, 2, 2, 2]\n",
      "[2, 2, 2, 2]\n",
      "[2, 2, 2, 2]\n",
      "[2, 2, 2, 2]\n",
      "[2, 2, 2, 2]\n",
      "[2, 2, 2, 2]\n",
      "[2, 2, 2, 2]\n",
      "[2, 2, 2, 2]\n"
     ]
    },
    {
     "ename": "KeyboardInterrupt",
     "evalue": "",
     "output_type": "error",
     "traceback": [
      "\u001b[0;31m---------------------------------------------------------------------------\u001b[0m",
      "\u001b[0;31mKeyboardInterrupt\u001b[0m                         Traceback (most recent call last)",
      "Cell \u001b[0;32mIn[2], line 36\u001b[0m\n\u001b[1;32m     34\u001b[0m \u001b[38;5;28;01mif\u001b[39;00m \u001b[38;5;18m__name__\u001b[39m \u001b[38;5;241m==\u001b[39m \u001b[38;5;124m\"\u001b[39m\u001b[38;5;124m__main__\u001b[39m\u001b[38;5;124m\"\u001b[39m:\n\u001b[1;32m     35\u001b[0m     \u001b[38;5;28;01mtry\u001b[39;00m:\n\u001b[0;32m---> 36\u001b[0m         \u001b[43mmain\u001b[49m\u001b[43m(\u001b[49m\u001b[43m)\u001b[49m\n\u001b[1;32m     37\u001b[0m     \u001b[38;5;28;01mfinally\u001b[39;00m:\n\u001b[1;32m     38\u001b[0m         fc\u001b[38;5;241m.\u001b[39mstop()\n",
      "Cell \u001b[0;32mIn[2], line 17\u001b[0m, in \u001b[0;36mmain\u001b[0;34m()\u001b[0m\n\u001b[1;32m     14\u001b[0m \u001b[38;5;28;01mif\u001b[39;00m current_time \u001b[38;5;241m-\u001b[39m start_time \u001b[38;5;241m>\u001b[39m run_duration:\n\u001b[1;32m     15\u001b[0m     \u001b[38;5;28;01mbreak\u001b[39;00m  \u001b[38;5;66;03m# Exit the loop after run_duration seconds\u001b[39;00m\n\u001b[0;32m---> 17\u001b[0m scan_list \u001b[38;5;241m=\u001b[39m \u001b[43mfc\u001b[49m\u001b[38;5;241;43m.\u001b[39;49m\u001b[43mscan_step\u001b[49m\u001b[43m(\u001b[49m\u001b[38;5;241;43m25\u001b[39;49m\u001b[43m)\u001b[49m\n\u001b[1;32m     18\u001b[0m \u001b[38;5;28;01mif\u001b[39;00m \u001b[38;5;129;01mnot\u001b[39;00m scan_list:\n\u001b[1;32m     19\u001b[0m     \u001b[38;5;28;01mcontinue\u001b[39;00m\n",
      "File \u001b[0;32m/usr/local/lib/python3.9/dist-packages/picar_4wd-1.0.0-py3.9.egg/picar_4wd/__init__.py:145\u001b[0m, in \u001b[0;36mscan_step\u001b[0;34m(ref)\u001b[0m\n\u001b[1;32m    143\u001b[0m     current_angle \u001b[38;5;241m=\u001b[39m min_angle\n\u001b[1;32m    144\u001b[0m     us_step \u001b[38;5;241m=\u001b[39m STEP\n\u001b[0;32m--> 145\u001b[0m status \u001b[38;5;241m=\u001b[39m \u001b[43mget_status_at\u001b[49m\u001b[43m(\u001b[49m\u001b[43mcurrent_angle\u001b[49m\u001b[43m,\u001b[49m\u001b[43m \u001b[49m\u001b[43mref1\u001b[49m\u001b[38;5;241;43m=\u001b[39;49m\u001b[43mref\u001b[49m\u001b[43m)\u001b[49m\u001b[38;5;66;03m#ref1\u001b[39;00m\n\u001b[1;32m    147\u001b[0m scan_list\u001b[38;5;241m.\u001b[39mappend(status)\n\u001b[1;32m    148\u001b[0m \u001b[38;5;28;01mif\u001b[39;00m current_angle \u001b[38;5;241m==\u001b[39m min_angle \u001b[38;5;129;01mor\u001b[39;00m current_angle \u001b[38;5;241m==\u001b[39m max_angle:\n",
      "File \u001b[0;32m/usr/local/lib/python3.9/dist-packages/picar_4wd-1.0.0-py3.9.egg/picar_4wd/__init__.py:128\u001b[0m, in \u001b[0;36mget_status_at\u001b[0;34m(angle, ref1, ref2)\u001b[0m\n\u001b[1;32m    127\u001b[0m \u001b[38;5;28;01mdef\u001b[39;00m \u001b[38;5;21mget_status_at\u001b[39m(angle, ref1\u001b[38;5;241m=\u001b[39m\u001b[38;5;241m35\u001b[39m, ref2\u001b[38;5;241m=\u001b[39m\u001b[38;5;241m10\u001b[39m):\n\u001b[0;32m--> 128\u001b[0m     dist \u001b[38;5;241m=\u001b[39m \u001b[43mget_distance_at\u001b[49m\u001b[43m(\u001b[49m\u001b[43mangle\u001b[49m\u001b[43m)\u001b[49m\n\u001b[1;32m    129\u001b[0m     \u001b[38;5;28;01mif\u001b[39;00m dist \u001b[38;5;241m>\u001b[39m ref1 \u001b[38;5;129;01mor\u001b[39;00m dist \u001b[38;5;241m==\u001b[39m \u001b[38;5;241m-\u001b[39m\u001b[38;5;241m2\u001b[39m:\n\u001b[1;32m    130\u001b[0m         \u001b[38;5;28;01mreturn\u001b[39;00m \u001b[38;5;241m2\u001b[39m\n",
      "File \u001b[0;32m/usr/local/lib/python3.9/dist-packages/picar_4wd-1.0.0-py3.9.egg/picar_4wd/__init__.py:123\u001b[0m, in \u001b[0;36mget_distance_at\u001b[0;34m(angle)\u001b[0m\n\u001b[1;32m    121\u001b[0m servo\u001b[38;5;241m.\u001b[39mset_angle(angle)\n\u001b[1;32m    122\u001b[0m time\u001b[38;5;241m.\u001b[39msleep(\u001b[38;5;241m0.04\u001b[39m)\n\u001b[0;32m--> 123\u001b[0m distance \u001b[38;5;241m=\u001b[39m \u001b[43mus\u001b[49m\u001b[38;5;241;43m.\u001b[39;49m\u001b[43mget_distance\u001b[49m\u001b[43m(\u001b[49m\u001b[43m)\u001b[49m\n\u001b[1;32m    124\u001b[0m angle_distance \u001b[38;5;241m=\u001b[39m [angle, distance]\n\u001b[1;32m    125\u001b[0m \u001b[38;5;28;01mreturn\u001b[39;00m distance\n",
      "File \u001b[0;32m/usr/local/lib/python3.9/dist-packages/picar_4wd-1.0.0-py3.9.egg/picar_4wd/ultrasonic.py:24\u001b[0m, in \u001b[0;36mUltrasonic.get_distance\u001b[0;34m(self)\u001b[0m\n\u001b[1;32m     22\u001b[0m \u001b[38;5;28;01mdef\u001b[39;00m \u001b[38;5;21mget_distance\u001b[39m(\u001b[38;5;28mself\u001b[39m):\n\u001b[1;32m     23\u001b[0m     \u001b[38;5;28mself\u001b[39m\u001b[38;5;241m.\u001b[39mtrig\u001b[38;5;241m.\u001b[39mlow()\n\u001b[0;32m---> 24\u001b[0m     \u001b[43mtime\u001b[49m\u001b[38;5;241;43m.\u001b[39;49m\u001b[43msleep\u001b[49m\u001b[43m(\u001b[49m\u001b[38;5;241;43m0.01\u001b[39;49m\u001b[43m)\u001b[49m\n\u001b[1;32m     25\u001b[0m     \u001b[38;5;28mself\u001b[39m\u001b[38;5;241m.\u001b[39mtrig\u001b[38;5;241m.\u001b[39mhigh()\n\u001b[1;32m     26\u001b[0m     time\u001b[38;5;241m.\u001b[39msleep(\u001b[38;5;241m0.000015\u001b[39m)\n",
      "\u001b[0;31mKeyboardInterrupt\u001b[0m: "
     ]
    }
   ],
   "source": [
    "import picar_4wd as fc\n",
    "import time\n",
    "import random\n",
    "\n",
    "speed = 20\n",
    "turn_speed = 30\n",
    "\n",
    "def main():\n",
    "    start_time = time.time()  # Record the start time\n",
    "    run_duration = 20  # Duration to run the main loop, in seconds\n",
    "\n",
    "    while True:\n",
    "        current_time = time.time()  # Get the current time\n",
    "        if current_time - start_time > run_duration:\n",
    "            break  # Exit the loop after run_duration seconds\n",
    "\n",
    "        scan_list = fc.scan_step(25)\n",
    "        if not scan_list:\n",
    "            continue\n",
    "\n",
    "        tmp = scan_list[3:7]\n",
    "        print(tmp)\n",
    "        if tmp != [2,2,2,2]:\n",
    "            fc.backward(speed)\n",
    "            time.sleep(0.13)\n",
    "            \n",
    "            # Randomly decide to turn left or right\n",
    "            random_turn = random.choice([fc.turn_left, fc.turn_right])\n",
    "            random_turn(turn_speed)# Call the randomly selected function\n",
    "            time.sleep(0.85)\n",
    "        else:\n",
    "            fc.forward(speed)\n",
    "\n",
    "if __name__ == \"__main__\":\n",
    "    try:\n",
    "        main()\n",
    "    finally:\n",
    "        fc.stop()\n"
   ]
  },
  {
   "cell_type": "code",
   "execution_count": null,
   "id": "77ae551b-d352-4f43-9d67-51cfb2af5906",
   "metadata": {},
   "outputs": [],
   "source": []
  }
 ],
 "metadata": {
  "kernelspec": {
   "display_name": "Python 3 (ipykernel)",
   "language": "python",
   "name": "python3"
  },
  "language_info": {
   "codemirror_mode": {
    "name": "ipython",
    "version": 3
   },
   "file_extension": ".py",
   "mimetype": "text/x-python",
   "name": "python",
   "nbconvert_exporter": "python",
   "pygments_lexer": "ipython3",
   "version": "3.9.2"
  }
 },
 "nbformat": 4,
 "nbformat_minor": 5
}
