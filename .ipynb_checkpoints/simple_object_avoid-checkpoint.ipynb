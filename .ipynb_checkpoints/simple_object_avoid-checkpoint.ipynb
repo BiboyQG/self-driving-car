{
 "cells": [
  {
   "cell_type": "code",
   "execution_count": 2,
   "id": "57a680c2-b850-435b-950b-035c4f0dec6b",
   "metadata": {},
   "outputs": [],
   "source": [
    "import picar_4wd as fc"
   ]
  },
  {
   "cell_type": "code",
   "execution_count": 3,
   "id": "c7a26600-b6a8-4737-a99e-6854451e5c1d",
   "metadata": {},
   "outputs": [],
   "source": [
    "fc.turn_left(1)"
   ]
  },
  {
   "cell_type": "code",
   "execution_count": null,
   "id": "2b2f7ea8-e093-4be4-9d26-211c7e0fb494",
   "metadata": {},
   "outputs": [],
   "source": []
  },
  {
   "cell_type": "code",
   "execution_count": null,
   "id": "4f751710-c8a6-4573-a3e4-e30cc2ef793f",
   "metadata": {},
   "outputs": [],
   "source": []
  }
 ],
 "metadata": {
  "kernelspec": {
   "display_name": "Python 3 (ipykernel)",
   "language": "python",
   "name": "python3"
  },
  "language_info": {
   "codemirror_mode": {
    "name": "ipython",
    "version": 3
   },
   "file_extension": ".py",
   "mimetype": "text/x-python",
   "name": "python",
   "nbconvert_exporter": "python",
   "pygments_lexer": "ipython3",
   "version": "3.9.2"
  }
 },
 "nbformat": 4,
 "nbformat_minor": 5
}
